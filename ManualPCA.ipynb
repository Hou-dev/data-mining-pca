{
 "cells": [
  {
   "cell_type": "code",
   "execution_count": 1,
   "metadata": {},
   "outputs": [],
   "source": [
    "# imports\n",
    "import pandas as pd\n",
    "import numpy as np\n",
    "from scipy.stats import zscore"
   ]
  },
  {
   "cell_type": "code",
   "execution_count": 2,
   "metadata": {},
   "outputs": [],
   "source": [
    "# reading data to dataframe\n",
    "data = pd.read_excel('Exam_Scores.xlsx')\n",
    "data\n",
    "score = data[['Exam1','Exam3']]"
   ]
  },
  {
   "cell_type": "code",
   "execution_count": 3,
   "metadata": {},
   "outputs": [
    {
     "name": "stderr",
     "output_type": "stream",
     "text": [
      "C:\\Users\\Javed\\AppData\\Local\\Continuum\\anaconda3\\lib\\site-packages\\ipykernel_launcher.py:1: SettingWithCopyWarning: \n",
      "A value is trying to be set on a copy of a slice from a DataFrame.\n",
      "Try using .loc[row_indexer,col_indexer] = value instead\n",
      "\n",
      "See the caveats in the documentation: http://pandas.pydata.org/pandas-docs/stable/indexing.html#indexing-view-versus-copy\n",
      "  \"\"\"Entry point for launching an IPython kernel.\n",
      "C:\\Users\\Javed\\AppData\\Local\\Continuum\\anaconda3\\lib\\site-packages\\ipykernel_launcher.py:2: SettingWithCopyWarning: \n",
      "A value is trying to be set on a copy of a slice from a DataFrame.\n",
      "Try using .loc[row_indexer,col_indexer] = value instead\n",
      "\n",
      "See the caveats in the documentation: http://pandas.pydata.org/pandas-docs/stable/indexing.html#indexing-view-versus-copy\n",
      "  \n"
     ]
    },
    {
     "data": {
      "text/html": [
       "<div>\n",
       "<style scoped>\n",
       "    .dataframe tbody tr th:only-of-type {\n",
       "        vertical-align: middle;\n",
       "    }\n",
       "\n",
       "    .dataframe tbody tr th {\n",
       "        vertical-align: top;\n",
       "    }\n",
       "\n",
       "    .dataframe thead th {\n",
       "        text-align: right;\n",
       "    }\n",
       "</style>\n",
       "<table border=\"1\" class=\"dataframe\">\n",
       "  <thead>\n",
       "    <tr style=\"text-align: right;\">\n",
       "      <th></th>\n",
       "      <th>Exam1</th>\n",
       "      <th>Exam3</th>\n",
       "    </tr>\n",
       "  </thead>\n",
       "  <tbody>\n",
       "    <tr>\n",
       "      <th>0</th>\n",
       "      <td>1.679507</td>\n",
       "      <td>1.178986</td>\n",
       "    </tr>\n",
       "    <tr>\n",
       "      <th>1</th>\n",
       "      <td>-0.924672</td>\n",
       "      <td>0.263269</td>\n",
       "    </tr>\n",
       "    <tr>\n",
       "      <th>2</th>\n",
       "      <td>-1.122816</td>\n",
       "      <td>-1.201879</td>\n",
       "    </tr>\n",
       "    <tr>\n",
       "      <th>3</th>\n",
       "      <td>-1.688942</td>\n",
       "      <td>-1.705523</td>\n",
       "    </tr>\n",
       "    <tr>\n",
       "      <th>4</th>\n",
       "      <td>-0.132096</td>\n",
       "      <td>0.400626</td>\n",
       "    </tr>\n",
       "    <tr>\n",
       "      <th>5</th>\n",
       "      <td>0.943543</td>\n",
       "      <td>1.041628</td>\n",
       "    </tr>\n",
       "    <tr>\n",
       "      <th>6</th>\n",
       "      <td>1.368138</td>\n",
       "      <td>1.499487</td>\n",
       "    </tr>\n",
       "    <tr>\n",
       "      <th>7</th>\n",
       "      <td>-0.556690</td>\n",
       "      <td>-1.018735</td>\n",
       "    </tr>\n",
       "    <tr>\n",
       "      <th>8</th>\n",
       "      <td>-0.018871</td>\n",
       "      <td>0.125911</td>\n",
       "    </tr>\n",
       "    <tr>\n",
       "      <th>9</th>\n",
       "      <td>0.066048</td>\n",
       "      <td>-1.201879</td>\n",
       "    </tr>\n",
       "    <tr>\n",
       "      <th>10</th>\n",
       "      <td>0.915237</td>\n",
       "      <td>0.263269</td>\n",
       "    </tr>\n",
       "    <tr>\n",
       "      <th>11</th>\n",
       "      <td>-0.528384</td>\n",
       "      <td>0.354840</td>\n",
       "    </tr>\n",
       "  </tbody>\n",
       "</table>\n",
       "</div>"
      ],
      "text/plain": [
       "       Exam1     Exam3\n",
       "0   1.679507  1.178986\n",
       "1  -0.924672  0.263269\n",
       "2  -1.122816 -1.201879\n",
       "3  -1.688942 -1.705523\n",
       "4  -0.132096  0.400626\n",
       "5   0.943543  1.041628\n",
       "6   1.368138  1.499487\n",
       "7  -0.556690 -1.018735\n",
       "8  -0.018871  0.125911\n",
       "9   0.066048 -1.201879\n",
       "10  0.915237  0.263269\n",
       "11 -0.528384  0.354840"
      ]
     },
     "execution_count": 3,
     "metadata": {},
     "output_type": "execute_result"
    }
   ],
   "source": [
    "score['Exam1'] = zscore(score['Exam1'])\n",
    "score['Exam3'] = zscore(score['Exam3'])\n",
    "score"
   ]
  },
  {
   "cell_type": "code",
   "execution_count": 4,
   "metadata": {},
   "outputs": [
    {
     "name": "stdout",
     "output_type": "stream",
     "text": [
      "4.625929269271485e-18\n"
     ]
    }
   ],
   "source": [
    "# finding the mean of x and y\n",
    "mean_x = np.mean(score['Exam1'])\n",
    "mean_y = np.mean(score['Exam3'])\n",
    "#mean_vec = np.array([[mean_x],[mean_y]])\n",
    "print(mean_y)"
   ]
  },
  {
   "cell_type": "code",
   "execution_count": 5,
   "metadata": {},
   "outputs": [
    {
     "name": "stdout",
     "output_type": "stream",
     "text": [
      "[[1.09090909 0.86244769]\n",
      " [0.86244769 1.09090909]]\n"
     ]
    }
   ],
   "source": [
    "# caculate the covariance matrix\n",
    "cov_mat = np.cov([score['Exam1'],score['Exam3']])\n",
    "print(cov_mat)"
   ]
  },
  {
   "cell_type": "code",
   "execution_count": 6,
   "metadata": {},
   "outputs": [
    {
     "name": "stdout",
     "output_type": "stream",
     "text": [
      "Value\n",
      "[1.95335678 0.2284614 ]\n",
      "\n",
      "Vector\n",
      "[[ 0.70710678 -0.70710678]\n",
      " [ 0.70710678  0.70710678]]\n"
     ]
    }
   ],
   "source": [
    "# find the the eigenvalues and eigenvectors using numpy\n",
    "e_val, e_vec = np.linalg.eig(cov_mat)\n",
    "print('Value')\n",
    "print(e_val)\n",
    "print('')\n",
    "print('Vector')\n",
    "print(e_vec)"
   ]
  },
  {
   "cell_type": "code",
   "execution_count": 7,
   "metadata": {},
   "outputs": [
    {
     "name": "stdout",
     "output_type": "stream",
     "text": [
      "1.9533567815138928\n",
      "0.22846140030428896\n"
     ]
    }
   ],
   "source": [
    "# sorting the eigenvalue\n",
    "eig_pairs = [(np.abs(e_val[i]), e_vec[:,i]) for i in range(len(e_val))]\n",
    "eig_pairs.sort(key=lambda x:x[0],reverse=True)\n",
    "for i in eig_pairs:\n",
    "    print(i[0])"
   ]
  },
  {
   "cell_type": "code",
   "execution_count": 8,
   "metadata": {},
   "outputs": [
    {
     "name": "stdout",
     "output_type": "stream",
     "text": [
      "Matrix:\n",
      " [[ 0.70710678 -0.70710678]\n",
      " [ 0.70710678  0.70710678]]\n"
     ]
    }
   ],
   "source": [
    "# finding the covariance of the eigenpairs\n",
    "matrix = np.hstack((eig_pairs[0][1].reshape(2,1), eig_pairs[1][1].reshape(2,1)))\n",
    "print('Matrix:\\n', matrix)"
   ]
  },
  {
   "cell_type": "code",
   "execution_count": 9,
   "metadata": {},
   "outputs": [
    {
     "name": "stdout",
     "output_type": "stream",
     "text": [
      "[[ 2.1550101   1.89396607 -1.04748169 -0.53419556 -0.80729481 -0.76082398\n",
      "  -1.14755956 -2.05584351  0.55376421  0.46944458  0.29356175  0.9874524 ]\n",
      " [-0.22017131  0.22662842  0.26020246 -0.90651368  0.78060738  0.93888916\n",
      "   1.24096557  0.35613037  0.74057623 -0.09712647 -1.04080983 -0.48563233]]\n"
     ]
    },
    {
     "name": "stderr",
     "output_type": "stream",
     "text": [
      "C:\\Users\\Javed\\AppData\\Local\\Continuum\\anaconda3\\lib\\site-packages\\ipykernel_launcher.py:2: FutureWarning: Method .as_matrix will be removed in a future version. Use .values instead.\n",
      "  \n"
     ]
    }
   ],
   "source": [
    "# Put scores into a matrix and rehape to mutiply by eigenpairs to find PCA\n",
    "score_mat = score.as_matrix().reshape(2,12)\n",
    "\n",
    "transformed = matrix.T.dot(score_mat)\n",
    "assert transformed.shape == (2,12)\n",
    "# print the transformed matrix\n",
    "print(transformed)\n",
    "a1 = transformed[0]\n",
    "b1 =  transformed[1]\n",
    "c1 = [a1,b1]\n"
   ]
  },
  {
   "cell_type": "code",
   "execution_count": 10,
   "metadata": {},
   "outputs": [
    {
     "name": "stdout",
     "output_type": "stream",
     "text": [
      "[[0.         0.51030469]\n",
      " [0.51030469 0.        ]]\n"
     ]
    }
   ],
   "source": [
    "# sum squared distance and variation of PCA1\n",
    "from sklearn.metrics.pairwise import euclidean_distances\n",
    "var1 = euclidean_distances(c1)/(len(a1)-1)\n",
    "print(var1)"
   ]
  },
  {
   "cell_type": "code",
   "execution_count": 12,
   "metadata": {},
   "outputs": [],
   "source": [
    "# from the slides we find PCA2 by mutiplying the -0.41*E1 and 0.89*E2\n",
    "#a[0].dot(transformed[0])\n",
    "a = np.array(-0.41*transformed[0])\n",
    "b = np.array(0.89*transformed[1])"
   ]
  },
  {
   "cell_type": "code",
   "execution_count": 13,
   "metadata": {},
   "outputs": [
    {
     "name": "stdout",
     "output_type": "stream",
     "text": [
      "[[0.         0.20435512]\n",
      " [0.20435512 0.        ]]\n"
     ]
    }
   ],
   "source": [
    "# sum squared distance and variation of PCA2\n",
    "a.reshape(-1,1)\n",
    "b.reshape(-1,1)\n",
    "c = [a,b]\n",
    "var2 = euclidean_distances(c)/(len(a)-1)\n",
    "print(var2)"
   ]
  },
  {
   "cell_type": "code",
   "execution_count": 16,
   "metadata": {},
   "outputs": [
    {
     "data": {
      "image/png": "[encoded data removed]",
      "text/plain": [
       "<Figure size 432x288 with 1 Axes>"
      ]
     },
     "metadata": {
      "needs_background": "light"
     },
     "output_type": "display_data"
    }
   ],
   "source": [
    "# making screeplot using the variation\n",
    "import matplotlib.pyplot as plt\n",
    "objects = ('PCA1','PCA2')\n",
    "pos = np.arange(len(objects))\n",
    "ver = [0.51,0.204]\n",
    "\n",
    "plt.bar(pos, ver, align='center', alpha=0.5)\n",
    "plt.xticks(pos, objects)\n",
    "plt.ylabel('Variation')\n",
    "plt.title('PCA and Variation')\n",
    "\n",
    "plt.show()"
   ]
  },
  {
   "cell_type": "code",
   "execution_count": 17,
   "metadata": {},
   "outputs": [],
   "source": [
    "# Below is the PCA implement using only scipy and numpy"
   ]
  },
  {
   "cell_type": "code",
   "execution_count": 18,
   "metadata": {},
   "outputs": [],
   "source": [
    "from sklearn.decomposition import PCA as sklearnPCA\n",
    "sklearn_pca = sklearnPCA(n_components=2)\n",
    "sklearn_transf = sklearn_pca.fit_transform(score.T)"
   ]
  },
  {
   "cell_type": "code",
   "execution_count": 19,
   "metadata": {},
   "outputs": [
    {
     "name": "stdout",
     "output_type": "stream",
     "text": [
      "Percentage Explained:  [89.52885249]\n"
     ]
    }
   ],
   "source": [
    "# find the PCA1 and PCA2 using sklearn\n",
    "from sklearn.decomposition import PCA\n",
    "pca1 = PCA(1).fit(score)\n",
    "# printing the percentage of variance for PCA1\n",
    "print('Percentage Explained: ', pca1.explained_variance_ratio_*100)"
   ]
  },
  {
   "cell_type": "code",
   "execution_count": 20,
   "metadata": {},
   "outputs": [
    {
     "name": "stdout",
     "output_type": "stream",
     "text": [
      "Percentage Explained:  [89.52885249 10.47114751]\n"
     ]
    }
   ],
   "source": [
    "pca2 = PCA(2).fit(score)\n",
    "#printing the perccentage variance for PCA2\n",
    "print('Percentage Explained: ',pca2.explained_variance_ratio_*100)"
   ]
  },
  {
   "cell_type": "code",
   "execution_count": 21,
   "metadata": {},
   "outputs": [
    {
     "data": {
      "image/png": "[encoded data removed]",
      "text/plain": [
       "<Figure size 432x288 with 1 Axes>"
      ]
     },
     "metadata": {
      "needs_background": "light"
     },
     "output_type": "display_data"
    }
   ],
   "source": [
    "# printing the screeplot\n",
    "import matplotlib.pyplot as plt\n",
    "pca = PCA().fit(score)\n",
    "plt.plot(np.cumsum(pca.explained_variance_ratio_))\n",
    "plt.xlabel('number of components')\n",
    "plt.ylabel('cumulative explained variance');\n",
    "plt.show()"
   ]
  },
  {
   "cell_type": "code",
   "execution_count": null,
   "metadata": {},
   "outputs": [],
   "source": []
  }
 ],
 "metadata": {
  "kernelspec": {
   "display_name": "Python 3",
   "language": "python",
   "name": "python3"
  },
  "language_info": {
   "codemirror_mode": {
    "name": "ipython",
    "version": 3
   },
   "file_extension": ".py",
   "mimetype": "text/x-python",
   "name": "python",
   "nbconvert_exporter": "python",
   "pygments_lexer": "ipython3",
   "version": "3.7.3"
  }
 },
 "nbformat": 4,
 "nbformat_minor": 2
}
